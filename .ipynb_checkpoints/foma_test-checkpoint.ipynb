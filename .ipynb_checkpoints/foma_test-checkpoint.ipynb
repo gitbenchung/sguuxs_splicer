{
 "cells": [
  {
   "cell_type": "code",
   "execution_count": 1,
   "id": "0da81527-191e-4d4c-9eb4-d558ce1a9552",
   "metadata": {},
   "outputs": [],
   "source": [
    "import src"
   ]
  },
  {
   "cell_type": "code",
   "execution_count": 2,
   "id": "319b47ed-9cb6-4523-8514-0e759192f3e0",
   "metadata": {},
   "outputs": [],
   "source": [
    "import subprocess"
   ]
  },
  {
   "cell_type": "code",
   "execution_count": 3,
   "id": "09ceac87-9539-4a57-98f0-a0d5854a7f0a",
   "metadata": {},
   "outputs": [
    {
     "name": "stdout",
     "output_type": "stream",
     "text": [
      "First line of output: Foma, version 0.9.18alpha (svn r241)\n"
     ]
    }
   ],
   "source": [
    "foma = subprocess.Popen(\n",
    "    [\"C:/Users/benja/OneDrive/Desktop/foma/foma.exe\"],\n",
    "    stdin=subprocess.PIPE,\n",
    "    stdout=subprocess.PIPE,\n",
    "    stderr=subprocess.PIPE,\n",
    "    text=True\n",
    ")\n",
    "\n",
    "# Capture both stdout and stderr\n",
    "stdout, stderr = foma.communicate()\n",
    "\n",
    "# If the output is a multi-line string, you can split it by lines and access the first line.\n",
    "output_lines = stdout.splitlines()\n",
    "\n",
    "# Now you can access the first line of output\n",
    "if output_lines:\n",
    "    print(\"First line of output:\", output_lines[0])\n",
    "\n",
    "# Similarly, for error output:\n",
    "error_lines = stderr.splitlines()\n",
    "if error_lines:\n",
    "    print(\"First line of error:\", error_lines[0])"
   ]
  },
  {
   "cell_type": "code",
   "execution_count": 8,
   "id": "57feb938-a94c-45da-a6eb-5f18e05755c5",
   "metadata": {},
   "outputs": [],
   "source": [
    "import fst"
   ]
  },
  {
   "cell_type": "code",
   "execution_count": 10,
   "id": "36a2e4eb-0a7f-4c2d-a7af-bd483a8b6d41",
   "metadata": {},
   "outputs": [
    {
     "name": "stdout",
     "output_type": "stream",
     "text": [
      "foma executable not found at: C:/path/to/foma/foma.exe\n"
     ]
    }
   ],
   "source": [
    "import os\n",
    "\n",
    "foma_path = \"C:/path/to/foma/foma.exe\"\n",
    "if not os.path.exists(foma_path):\n",
    "    print(f\"foma executable not found at: {foma_path}\")\n",
    "else:\n",
    "    print(\"foma executable found!\")"
   ]
  },
  {
   "cell_type": "code",
   "execution_count": null,
   "id": "23eb0168-b27e-45fa-a6cf-619fc4c74a68",
   "metadata": {},
   "outputs": [],
   "source": [
    "foma[0]: regex nts'i'its ;\n",
    "190 bytes. 2 states, 1 arc, 1 path.\n",
    "foma[1]: regex [n t s ' i ' i t s] \"+N\":0 [\"1stPPossSing\":[\"^\" [i|u]]| \"1stPPossPl\":[\"^\" sm]]\n",
    "<ing\":[\"^\" [i|u]]| \"1stPPossPl\":[\"^\" sm]| \"3rdPPoss\":[\"^\" t]| \"2ndPSing\":[\"^\" n]| \"2ndPPl\": [\"^\" sm]] ;\n",
    "774 bytes. 17 states, 21 arcs, 6 paths.\n",
    "foma[2]: pairs\n",
    "regexnts'i'its+N1stPPossSing    regexnts'i'its^i\n",
    "regexnts'i'its+N1stPPossSing    regexnts'i'its^u\n",
    "regexnts'i'its+N1stPPossPl      regexnts'i'its^sm\n",
    "regexnts'i'its+N3rdPPoss        regexnts'i'its^t\n",
    "regexnts'i'its+N2ndPSing        regexnts'i'its^n\n",
    "regexnts'i'its+N2ndPPl  regexnts'i'its^sm\n",
    "foma[2]: pairs nts'i'its+N2ndPSing\n",
    "regexnts'i'its+N1stPPossSing    regexnts'i'its^i\n",
    "regexnts'i'its+N1stPPossSing    regexnts'i'its^u\n",
    "regexnts'i'its+N1stPPossPl      regexnts'i'its^sm\n",
    "regexnts'i'its+N3rdPPoss        regexnts'i'its^t\n",
    "regexnts'i'its+N2ndPSing        regexnts'i'its^n\n",
    "regexnts'i'its+N2ndPPl  regexnts'i'its^sm\n",
    "Unknown command. Ignoring until end of line.\n",
    "foma[2]: up nts'i'its+N2ndPSing\n",
    "???\n",
    "foma[2]: nts'i'its^u\n",
    "Unknown command. Ignoring until end of line.\n",
    "foma[2]: up nts'i'its^u\n",
    "???\n",
    "foma[2]: define Cleanup \"^\"-> 0 ;\n",
    "defined Cleanup: 276 bytes. 1 state, 2 arcs, Cyclic.\n",
    "foma[2]: pairs\n",
    "regexnts'i'its+N1stPPossSing    regexnts'i'its^i\n",
    "regexnts'i'its+N1stPPossSing    regexnts'i'its^u\n",
    "regexnts'i'its+N1stPPossPl      regexnts'i'its^sm\n",
    "regexnts'i'its+N3rdPPoss        regexnts'i'its^t\n",
    "regexnts'i'its+N2ndPSing        regexnts'i'its^n\n",
    "regexnts'i'its+N2ndPPl  regexnts'i'its^sm"
   ]
  }
 ],
 "metadata": {
  "kernelspec": {
   "display_name": "Python 3 (ipykernel)",
   "language": "python",
   "name": "python3"
  },
  "language_info": {
   "codemirror_mode": {
    "name": "ipython",
    "version": 3
   },
   "file_extension": ".py",
   "mimetype": "text/x-python",
   "name": "python",
   "nbconvert_exporter": "python",
   "pygments_lexer": "ipython3",
   "version": "3.12.8"
  }
 },
 "nbformat": 4,
 "nbformat_minor": 5
}
